{
 "cells": [
  {
   "cell_type": "markdown",
   "metadata": {},
   "source": [
    "## Intro to Decorators"
   ]
  },
  {
   "cell_type": "markdown",
   "metadata": {},
   "source": [
    "In Python, functions are first-class objects. This means that functions can be passed around, and used as arguments, just like any other value (e.g, string, int, float)."
   ]
  },
  {
   "cell_type": "code",
   "execution_count": 2,
   "metadata": {},
   "outputs": [
    {
     "name": "stdout",
     "output_type": "stream",
     "text": [
      "<function foo at 0x7ff1c466dcf8>\n",
      "3\n",
      "<type 'function'>\n",
      "4\n"
     ]
    }
   ],
   "source": [
    "def foo(bar):\n",
    "    return bar + 1\n",
    "\n",
    "print(foo)\n",
    "print(foo(2))\n",
    "print(type(foo))\n",
    "\n",
    "\n",
    "def call_foo_with_arg(foo, arg):\n",
    "    return foo(arg)\n",
    "\n",
    "print(call_foo_with_arg(foo, 3))"
   ]
  },
  {
   "cell_type": "markdown",
   "metadata": {},
   "source": [
    "### Nested Functions"
   ]
  },
  {
   "cell_type": "markdown",
   "metadata": {},
   "source": [
    "Because of the first-class nature of functions in Python, you can define functions inside other functions. Such functions are called nested functions.\n",
    "In addition, Python also allows you to return functions from other functions. "
   ]
  },
  {
   "cell_type": "code",
   "execution_count": 4,
   "metadata": {},
   "outputs": [
    {
     "name": "stdout",
     "output_type": "stream",
     "text": [
      "<function first_child at 0x7ff1c466de60>\n",
      "<function second_child at 0x7ff1c466dd70>\n",
      "Printing from the first_child() function.\n",
      "Printing from the second_child() function.\n"
     ]
    }
   ],
   "source": [
    "def parent(num):\n",
    "\n",
    "    def first_child():\n",
    "        return \"Printing from the first_child() function.\"\n",
    "\n",
    "    def second_child():\n",
    "        return \"Printing from the second_child() function.\"\n",
    "\n",
    "    try:\n",
    "        assert num == 10\n",
    "        return first_child\n",
    "    except AssertionError:\n",
    "        return second_child\n",
    "\n",
    "foo = parent(10)\n",
    "bar = parent(11)\n",
    "\n",
    "print(foo)\n",
    "print(bar)\n",
    "\n",
    "print(foo())\n",
    "print(bar())"
   ]
  },
  {
   "cell_type": "markdown",
   "metadata": {},
   "source": [
    "This simply means that foo points to the first_child() function, while bar points to the \n",
    "second_child() function. Note that we did not add parenthesis to the sibling functions \n",
    "\\- first_child - upon returning so that way we can use them in the future. Make sense?"
   ]
  },
  {
   "cell_type": "markdown",
   "metadata": {},
   "source": [
    "### Decorators"
   ]
  },
  {
   "cell_type": "code",
   "execution_count": 7,
   "metadata": {},
   "outputs": [
    {
     "name": "stdout",
     "output_type": "stream",
     "text": [
      "Yes!\n",
      "Wheee!\n",
      "Something is happening after some_function() is called.\n"
     ]
    }
   ],
   "source": [
    "#### Example 01\n",
    "def my_decorator(some_function):\n",
    "\n",
    "    def wrapper():\n",
    "\n",
    "        num = 10\n",
    "\n",
    "        if num == 10:\n",
    "            print(\"Yes!\")\n",
    "        else:\n",
    "            print(\"No!\")\n",
    "\n",
    "        some_function()\n",
    "\n",
    "        print(\"Something is happening after some_function() is called.\")\n",
    "\n",
    "    return wrapper\n",
    "\n",
    "\n",
    "def just_some_function():\n",
    "    print(\"Wheee!\")\n",
    "\n",
    "just_some_function = my_decorator(just_some_function)\n",
    "\n",
    "just_some_function()"
   ]
  },
  {
   "cell_type": "markdown",
   "metadata": {},
   "source": [
    "### Syntactic Sugar !!!"
   ]
  },
  {
   "cell_type": "markdown",
   "metadata": {},
   "source": [
    "Python allows you to simplify the calling of decorators using the @ symbol (this is called “pie” syntax). Let’s create a module for our decorator."
   ]
  },
  {
   "cell_type": "code",
   "execution_count": 9,
   "metadata": {},
   "outputs": [],
   "source": [
    "def my_decorator(some_function):\n",
    "\n",
    "    def wrapper():\n",
    "\n",
    "        num = 10\n",
    "\n",
    "        if num == 10:\n",
    "            print(\"Yes!\")\n",
    "        else:\n",
    "            print(\"No!\")\n",
    "\n",
    "        some_function()\n",
    "\n",
    "        print(\"Something is happening after some_function() is called.\")\n",
    "\n",
    "    return wrapper\n",
    "\n",
    "\n",
    "#if __name__ == \"__main__\": # this syntax gives error in ipython notebook\n",
    "#    my_decorator()"
   ]
  },
  {
   "cell_type": "markdown",
   "metadata": {},
   "source": [
    "Okay. Stay with me. Let’s look at how to call the function with the decorator:"
   ]
  },
  {
   "cell_type": "code",
   "execution_count": 11,
   "metadata": {},
   "outputs": [
    {
     "name": "stdout",
     "output_type": "stream",
     "text": [
      "Yes!\n",
      "Wheee!\n",
      "Something is happening after some_function() is called.\n"
     ]
    }
   ],
   "source": [
    "@my_decorator\n",
    "def just_some_function():\n",
    "    print(\"Wheee!\")\n",
    "\n",
    "just_some_function()"
   ]
  },
  {
   "cell_type": "markdown",
   "metadata": {},
   "source": [
    "So, @my_decorator is just an easier way of saying just_some_function = my_decorator(just_some_function). It’s how you apply a decorator to a function."
   ]
  },
  {
   "cell_type": "code",
   "execution_count": 13,
   "metadata": {},
   "outputs": [
    {
     "name": "stdout",
     "output_type": "stream",
     "text": [
      "\n",
      "Sum of all the numbers: 49995000\n",
      "Time it took to run the function: 0.00343108177185\n",
      "\n"
     ]
    }
   ],
   "source": [
    "#### Real World Example 01\n",
    "import time\n",
    "\n",
    "\n",
    "def timing_function(some_function):\n",
    "\n",
    "    \"\"\"\n",
    "    Outputs the time a function takes\n",
    "    to execute.\n",
    "    \"\"\"\n",
    "\n",
    "    def wrapper():\n",
    "        t1 = time.time()\n",
    "        some_function()\n",
    "        t2 = time.time()\n",
    "        return \"Time it took to run the function: \" + str((t2 - t1)) + \"\\n\"\n",
    "    return wrapper\n",
    "\n",
    "\n",
    "@timing_function\n",
    "def my_function():\n",
    "    num_list = []\n",
    "    for num in (range(0, 10000)):\n",
    "        num_list.append(num)\n",
    "    print(\"\\nSum of all the numbers: \" + str((sum(num_list))))\n",
    "\n",
    "\n",
    "print(my_function())"
   ]
  },
  {
   "cell_type": "code",
   "execution_count": 14,
   "metadata": {},
   "outputs": [
    {
     "name": "stdout",
     "output_type": "stream",
     "text": [
      "222\n",
      "1\n",
      "2\n",
      "3\n",
      "4\n",
      "5\n"
     ]
    }
   ],
   "source": [
    "#### Real World Example 02\n",
    "from time import sleep\n",
    "\n",
    "\n",
    "def sleep_decorator(function):\n",
    "\n",
    "    \"\"\"\n",
    "    Limits how fast the function is\n",
    "    called.\n",
    "    \"\"\"\n",
    "\n",
    "    def wrapper(*args, **kwargs):\n",
    "        sleep(2)\n",
    "        return function(*args, **kwargs)\n",
    "    return wrapper\n",
    "\n",
    "\n",
    "@sleep_decorator\n",
    "def print_number(num):\n",
    "    return num\n",
    "\n",
    "print(print_number(222))\n",
    "\n",
    "for num in range(1, 6):\n",
    "    print(print_number(num))"
   ]
  },
  {
   "cell_type": "code",
   "execution_count": null,
   "metadata": {
    "collapsed": true
   },
   "outputs": [],
   "source": []
  }
 ],
 "metadata": {
  "kernelspec": {
   "display_name": "Python 2",
   "language": "python",
   "name": "python2"
  },
  "language_info": {
   "codemirror_mode": {
    "name": "ipython",
    "version": 2
   },
   "file_extension": ".py",
   "mimetype": "text/x-python",
   "name": "python",
   "nbconvert_exporter": "python",
   "pygments_lexer": "ipython2",
   "version": "2.7.12"
  }
 },
 "nbformat": 4,
 "nbformat_minor": 2
}
